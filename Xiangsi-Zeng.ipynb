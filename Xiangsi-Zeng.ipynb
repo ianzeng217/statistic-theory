{
 "cells": [
  {
   "cell_type": "markdown",
   "metadata": {},
   "source": [
    "# Homework on Statistical Learning Theory"
   ]
  },
  {
   "cell_type": "markdown",
   "metadata": {},
   "source": [
    "<b>Deadline:</b> 24.12.2018, 9 a.m. (there would be no soft deadline)\n",
    "\n",
    "<b>How to hang in?</b> You need to put your Jupyter Notebook to GitHub repo and send link in Telegram to <b>@CroCode</b>"
   ]
  },
  {
   "cell_type": "code",
   "execution_count": null,
   "metadata": {
    "collapsed": true
   },
   "outputs": [],
   "source": [
    "# Xiangsi Zeng"
   ]
  },
  {
   "cell_type": "markdown",
   "metadata": {},
   "source": [
    "### Block №1. Combinatorics and Probability Theory\n",
    "\n",
    "You can use LaTeX expressions in order to provide formulas: https://en.wikibooks.org/wiki/LaTeX"
   ]
  },
  {
   "cell_type": "markdown",
   "metadata": {},
   "source": [
    "1) In how many ways can the letters of the word PROBABILITY be rearranged such that all I’s and P’s appear in the middle?\n",
    "\n",
    "<b>Total:</b> 1 point"
   ]
  },
  {
   "cell_type": "markdown",
   "metadata": {
    "collapsed": true
   },
   "source": [
    "\\{Solution}\n",
    "\n",
    "\n",
    "\n",
    "    \n",
    "    \n",
    " \\[\n",
    "        \\begin{split}\n",
    "            &N(I)=2\n",
    "            \\\\  \n",
    "            &N(P)=1 \n",
    "            \\\\\n",
    "            &N(\"I\",\"P\" in the middle)=\\frac{9C3*3C2*1C1*8!}{2}=5080320         \n",
    "        \\end{split}\n",
    "    \\]"
   ]
  },
  {
   "cell_type": "markdown",
   "metadata": {},
   "source": [
    "2) The probability of having defect (at least 1 defective product) in batch of 100 products is 63.2%. Find the probability of having less than 3 defective products in such a batch.\n",
    "\n",
    "<i>Hint:</i> use idea of Poisson distribution (https://en.wikipedia.org/wiki/Poisson_distribution)\n",
    "\n",
    "<b>Total:</b> 1.5 points"
   ]
  },
  {
   "cell_type": "markdown",
   "metadata": {
    "collapsed": true
   },
   "source": [
    "{Solution} \n",
    " \n",
    " \\[\n",
    "        \\begin{split}\n",
    "            p(X\\le1) &=1-p(0)\n",
    "            \\\\\n",
    "            &=1-\\frac{e^{-\\lambda}*\\lambda^k}{k!}   \n",
    "            \\\\\n",
    "            &=0.63      \n",
    "        \\end{split}\n",
    "    \\]\n",
    "    \n",
    " \\[\n",
    "        \\begin{split}\n",
    "            &\\lambda=0.99967     \n",
    "        \\end{split}\n",
    "    \\]\n",
    "    \n",
    " \\[\n",
    "        \\begin{split}\n",
    "            p(X\\le 3)&=p(0)+p(1)+p(2)+p(3)\n",
    "            \\\\\n",
    "            &=\\frac{0.99967234081+1+0.99967234081^2/4+0.99967234081^3/9}{1-0.632}\n",
    "            \\\\\n",
    "            &=0.869          \n",
    "        \\end{split}\n",
    "    \\]\n",
    "    "
   ]
  },
  {
   "cell_type": "code",
   "execution_count": null,
   "metadata": {},
   "outputs": [],
   "source": []
  },
  {
   "cell_type": "markdown",
   "metadata": {},
   "source": [
    "### Block №2. Data Structures and Algorithms\n",
    "\n",
    "<b><i>NB!</i></b> Here you need to provide solution having minimal memory and runtime complexity in terms of Big O notation."
   ]
  },
  {
   "cell_type": "markdown",
   "metadata": {},
   "source": [
    "3) Suggest an algorithm that resets all elements in the column <i>i</i> and the row <i>j</i> of the matrix M to zeros if the element in the <i>(i, j)</i> cell is zero. Provide solution having minimal memory and runtime complexity in terms of Big O notation.\n",
    "\n",
    "<b>Input:</b> matrix M\n",
    "\n",
    "<b>Output:</b> modified according to condition matrix M\n",
    "\n",
    "<b>Total:</b> 2 points"
   ]
  },
  {
   "cell_type": "code",
   "execution_count": 6,
   "metadata": {},
   "outputs": [
    {
     "name": "stdout",
     "output_type": "stream",
     "text": [
      "inputmat [[1, 1, 1, 1], [1, 1, 1, 0], [1, 1, 0, 0]]\n",
      "outmat [[1, 1, 0, 0], [0, 0, 0, 0], [0, 0, 0, 0]]\n"
     ]
    }
   ],
   "source": [
    "# Thanks for your suggestion. This method is a space optimized version. \n",
    "#At first setting flag variables of the first row and column, then traverse the input matrix mat, \n",
    "#and update first row and first column in the end.\n",
    "\n",
    "def modifyMatrix(mat):\n",
    "    print ('inputmat',mat)\n",
    "    # set the row_flag and col_flag to false\n",
    "    row_flag = False\n",
    "    col_flag = False\n",
    "\n",
    "    # updating the first row and col if 0 is encountered\n",
    "    for i in range(0, len(mat)):\n",
    "\n",
    "        for j in range(0, len(mat[0])):\n",
    "            if (i == 0 and mat[i][j] == 0):\n",
    "                row_flag = True\n",
    "\n",
    "\n",
    "            if (j == 0 and mat[i][j] == 0):\n",
    "                col_flag = True\n",
    "\n",
    "            if (mat[i][j] == 0):\n",
    "                mat[0][j] = 0\n",
    "                mat[i][0] = 0\n",
    "\n",
    "    # Modify the input matrix mat[] using the first row and first column of Matrix mat\n",
    "    for i in range(1, len(mat)):\n",
    "        for j in range(1, len(mat[0])):\n",
    "            if (mat[0][j] == 0 or mat[i][0] == 0):\n",
    "                mat[i][j] = 0   \n",
    "\n",
    "    # modify first row if there was any 0\n",
    "    if (row_flag == True):\n",
    "        for i in range(0, len(mat)):\n",
    "            mat[0][i] = 0\n",
    "\n",
    "    # modify first col if there was any 0\n",
    "    if (col_flag == True):\n",
    "        for i in range(0, len(mat)):\n",
    "            mat[i][0] = 0\n",
    "\n",
    "    print (\"outmat\",mat)\n",
    "\n",
    "#Running program\n",
    "mat = [[1, 1, 1, 1],\n",
    "       [1, 1, 1, 0],\n",
    "       [1, 1, 0, 0]]\n",
    "\n",
    "modifyMatrix(mat)\n",
    "\n",
    "# Memory complexity: O(i*j)\n",
    "# Runtime complexity: O(1)"
   ]
  },
  {
   "cell_type": "markdown",
   "metadata": {},
   "source": [
    "4) Imagine you have a square picture, each pixel of which can be black or white (you can interpret it as binary matrix). Develop an algorithm for finding the maximum sub-square consisting of only black pixels.\n",
    "\n",
    "<b>Input:</b> binary matrix M (contains only 0-1 elements)\n",
    "\n",
    "<b>Output:</b> <i>((a1, b1),(a2, b2))</i> where <i>(a1, b1)</i> and <i>(a2, b2)</i> stay for coordinates of upper-left and lower-right sub-square corners respectively\n",
    "\n",
    "<b>Total:</b> 2.5 points"
   ]
  },
  {
   "cell_type": "code",
   "execution_count": 9,
   "metadata": {},
   "outputs": [
    {
     "name": "stdout",
     "output_type": "stream",
     "text": [
      "Maximum size sub-matrix is: \n",
      "1\n",
      "1\n",
      "1\n",
      "\n",
      "1\n",
      "1\n",
      "1\n",
      "\n",
      "1\n",
      "1\n",
      "1\n",
      "\n"
     ]
    }
   ],
   "source": [
    "#Set black square to 1 and white to 0. At first, construct a new square of the same size as the original square.\n",
    "#Then calculate the value of each of the four small squares, and get the size and position of the target square.\n",
    "#At last, create the target matrix corresponding to the target location.\n",
    "\n",
    "def printMaxSubSquare(M):\n",
    "    print ('inputmat',M)\n",
    "    R = len(M)  # no. of rows in M[][]\n",
    "    C = len(M[0])  # no. of columns in M[][]\n",
    "\n",
    "    S = [[0 for k in range(C)] for l in range(R)]\n",
    "\n",
    "    for i in range(0, R):\n",
    "        for j in range(0, C):\n",
    "            S[i][0] = M [i][0]\n",
    "            S[0][j] = M[0][j]\n",
    "\n",
    "\n",
    "    # here we have set the first row and column of S[][]\n",
    "\n",
    "    # Construct other entries\n",
    "    for i in range(1, R):\n",
    "        for j in range(1, C):\n",
    "            if (M[i][j] == 1):\n",
    "                S[i][j] = min(S[i][j - 1], S[i - 1][j], S[i - 1][j - 1]) + 1\n",
    "            else:\n",
    "                S[i][j] = 0\n",
    "  \n",
    "\n",
    "    # Find the maximum entry and\n",
    "    # indices of maximum entry in S[][]\n",
    "    max_of_s = S[0][0]\n",
    "    max_i = 0\n",
    "    max_j = 0\n",
    "    for i in range(R):\n",
    "        for j in range(C):\n",
    "            if (max_of_s < S[i][j]):\n",
    "                max_of_s = S[i][j]\n",
    "                max_i = i\n",
    "                max_j = j\n",
    "                \n",
    "\n",
    "    print(\"Maximum sub-matrix is: \")\n",
    "    for i in range(max_i, max_i - max_of_s, -1):\n",
    "        for j in range(max_j, max_j - max_of_s, -1):\n",
    "            print (M[i][j])\n",
    "        print(\"\")\n",
    "       \n",
    "\n",
    "\n",
    "M = [[1, 1, 1, 0, 1],\n",
    "    [1, 1, 1, 1, 0],\n",
    "    [0, 1, 1, 1, 0],\n",
    "    [1, 1, 1, 1, 0],\n",
    "    [1, 1, 1, 1, 1],\n",
    "    [0, 0, 0, 0, 0]]\n",
    "\n",
    "#Running program\n",
    "printMaxSubSquare(M)\n",
    "\n",
    "# Memory complexity: O(i*j) \n",
    "# Runtime complexity: O(i*j) "
   ]
  },
  {
   "cell_type": "markdown",
   "metadata": {},
   "source": [
    "5) Imagine series of integer numbers having only 3, 5 or 7 of some power in their factorization (i.e. 1, 3, 5, 7, 9, 15 etc.). Given k you're asked to return k-th number in this series.\n",
    "\n",
    "<i>Helpful link</i>: https://en.wikipedia.org/wiki/Fundamental_theorem_of_arithmetic\n",
    "\n",
    "<b>Input:</b> integer number k\n",
    "\n",
    "<b>Output:</b> k-th number of series\n",
    "\n",
    "<b>Total:</b> 3 points"
   ]
  },
  {
   "cell_type": "code",
   "execution_count": 12,
   "metadata": {},
   "outputs": [
    {
     "name": "stdout",
     "output_type": "stream",
     "text": [
      "7\n"
     ]
    }
   ],
   "source": [
    "# Thanks for your suggestion. By using Dynamic Programming, find that every subsequence is the target-sequence \n",
    "# itself (1, 2, 3, 4, 5, ...) multiply 3, 5, 7. Then i use similar merge method as merge sort recursion, \n",
    "# to get every target number from the three subsequence. Every step choose the smallest one, and move one step after.\n",
    "\n",
    "def getKthNum(k):\n",
    "    target = [0] * k  # To store target numbers\n",
    "\n",
    "    # 1 is the first target number\n",
    "    target[0] = 1\n",
    "\n",
    "    # i2, i3, i5 will indicate indices for 2,3,5 respectively\n",
    "    i2 = i3 = i5 = 0\n",
    "\n",
    "    # set initial multiple value\n",
    "    next_multiple_of_2 = 3\n",
    "    next_multiple_of_3 = 5\n",
    "    next_multiple_of_5 = 7\n",
    "\n",
    "    # start loop to find value from target[1] to target[n]\n",
    "    for l in range(1, k):\n",
    "\n",
    "        # choose the min value of all available multiples\n",
    "        target[l] = min(next_multiple_of_2, next_multiple_of_3, next_multiple_of_5)\n",
    "\n",
    "        # increment the value of index accordingly\n",
    "        if target[l] == next_multiple_of_2:\n",
    "            i2 += 1\n",
    "            next_multiple_of_2 = target[i2] * 3\n",
    "\n",
    "        if target[l] == next_multiple_of_3:\n",
    "            i3 += 1\n",
    "            next_multiple_of_3 = target[i3] * 5\n",
    "\n",
    "        if target[l] == next_multiple_of_5:\n",
    "            i5 += 1\n",
    "            next_multiple_of_5 = target[i5] * 7\n",
    "\n",
    "    # return target[k] value\n",
    "    print (target[-1])\n",
    "\n",
    "    \n",
    "#Running program\n",
    "getKthNum(4)\n",
    "\n",
    "\n",
    "# Memory complexity: O(n)\n",
    "# Runtime complexity: O(n)"
   ]
  },
  {
   "cell_type": "code",
   "execution_count": 1,
   "metadata": {},
   "outputs": [],
   "source": []
  }
 ],
 "metadata": {
  "kernelspec": {
   "display_name": "Python 3",
   "language": "python",
   "name": "python3"
  },
  "language_info": {
   "codemirror_mode": {
    "name": "ipython",
    "version": 3
   },
   "file_extension": ".py",
   "mimetype": "text/x-python",
   "name": "python",
   "nbconvert_exporter": "python",
   "pygments_lexer": "ipython3",
   "version": "3.6.6"
  }
 },
 "nbformat": 4,
 "nbformat_minor": 2
}
